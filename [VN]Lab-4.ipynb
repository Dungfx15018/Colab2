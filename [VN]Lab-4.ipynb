{
 "nbformat": 4,
 "nbformat_minor": 0,
 "metadata": {
  "kernelspec": {
   "display_name": "Python 3",
   "language": "python",
   "name": "python3"
  },
  "language_info": {
   "codemirror_mode": {
    "name": "ipython",
    "version": 3
   },
   "file_extension": ".py",
   "mimetype": "text/x-python",
   "name": "python",
   "nbconvert_exporter": "python",
   "pygments_lexer": "ipython3",
   "version": "3.5.2"
  },
  "colab": {
   "name": "[VN]Lab-4.ipynbL",
   "provenance": [],
   "collapsed_sections": []
  }
 },
 "cells": [
  {
   "cell_type": "markdown",
   "metadata": {
    "id": "VVUKL7jIMH33"
   },
   "source": [
    "# Hồi quy Ridge Regression (diễn giải)"
   ]
  },
  {
   "cell_type": "markdown",
   "metadata": {
    "id": "0vrMMNPMMH38"
   },
   "source": [
    "Trong notebook này, chúng ta sẽ chạy hồi quy Ridge nhiều lần với các L2 penalty khác nhau để xem cái nào sẽ khớp tốt nhất. Chúng ta sẽ tham khảo lại ví dụ hồi quy đa thức để thấy được hiệu quả của điều chuẩn L2.\n",
    "* Sử dụng triển khai được tích hợp sẵn của Hồi quy Ridge từ sklearn để chạy hồi quy đa thức.\n",
    "* Sử dụng matplotlib để trực quan hóa hồi quy đa thức.\n",
    "* Sử dụng triển khai trên để chạy hồi quy đa thức, lần này là với L2 penalty.\n",
    "* Sử dụng matplotlib để trực quan hóa hồi quy đa thức với điều chuẩn L2.\n",
    "* Chọn L2 penalty tốt nhất sử dụng kiểm định chéo.\n",
    "* Đánh giá khớp cuối cùng sử dụng dữ liệu kiểm tra.\n",
    "\n",
    "Chúng ta sẽ tiếp tục sử dụng dữ liệu giá nhà từ các notebook trước đó. (Trong bài tập lập trình tiếp theo, chúng ta sẽ triển khai thuật toán học hồi quy Ridge với gradient descent.)"
   ]
  },
  {
   "cell_type": "markdown",
   "metadata": {
    "id": "VcfzkQ2PMH3-"
   },
   "source": [
    "## Thư viện"
   ]
  },
  {
   "cell_type": "code",
   "metadata": {
    "id": "W20HLZsEMH4B"
   },
   "source": [
    "import pandas as pd\n",
    "import sklearn, pandas\n",
    "import numpy as np"
   ],
   "execution_count": 2,
   "outputs": []
  },
  {
   "cell_type": "markdown",
   "metadata": {
    "id": "kk_-_EC-MH4M"
   },
   "source": [
    "## Hồi quy đa thức"
   ]
  },
  {
   "cell_type": "markdown",
   "metadata": {
    "id": "THfgTOGiMH4P"
   },
   "source": [
    "Chúng ta sẽ lấy nguồn từ lab trước (*lab-3.ipynb*), đã có hàm tạo DataFrame với các cột chứa lũy thừa của một đầu vào đã biết. Copy và paste hàm `polynomial_dataframe`:"
   ]
  },
  {
   "cell_type": "code",
   "metadata": {
    "id": "35ETgMu4MH4T"
   },
   "source": [
    "def polynomial_dataframe(feature, degree):\n",
    "\n",
    "    data = pd.DataFrame()\n",
    "\n",
    "    for i in range(1, degree +1):\n",
    "\n",
    "        label = 'power_' + str(i)\n",
    "\n",
    "        data[label] = feature  ** i\n",
    "    return data"
   ],
   "execution_count": 3,
   "outputs": []
  },
  {
   "cell_type": "code",
   "execution_count": 4,
   "outputs": [
    {
     "name": "stdout",
     "output_type": "stream",
     "text": [
      "   power_1  power_2  power_3\n",
      "0      1.0      1.0      1.0\n",
      "1      2.0      4.0      8.0\n",
      "2      3.0      9.0     27.0\n"
     ]
    }
   ],
   "source": [
    "mock = np.array([1.,2.,3.])\n",
    "print(polynomial_dataframe(mock,3))"
   ],
   "metadata": {
    "collapsed": false
   }
  },
  {
   "cell_type": "markdown",
   "metadata": {
    "id": "xR4cfYlIMH4f"
   },
   "source": [
    "Chúng ta sẽ dùng matplotlib để hiển thị xem hồi quy đa thức trông như thế nào với dữ liệu nhà ở."
   ]
  },
  {
   "cell_type": "code",
   "metadata": {
    "id": "06SszSocMH4k"
   },
   "source": [
    "import matplotlib.pyplot as plt\n",
    "%matplotlib inline"
   ],
   "execution_count": 5,
   "outputs": []
  },
  {
   "cell_type": "code",
   "metadata": {
    "id": "6GB7vW5nMH4v"
   },
   "source": [
    "full_data = pandas.read_csv(\"house_data/kc_house_data.csv\", index_col=0)"
   ],
   "execution_count": 6,
   "outputs": []
  },
  {
   "cell_type": "markdown",
   "metadata": {
    "id": "P800G-jSMH45"
   },
   "source": [
    "Ở lab trước, chúng ta đã dùng biến 'sqft_living'. Để vẽ biểu đồ (nối các chấm), chúng ta cần sắp xếp theo theo giá trị 'sqft_living'; với các ngôi nhà có cùng diện tích, chúng ta sẽ chọn theo giá."
   ]
  },
  {
   "cell_type": "code",
   "metadata": {
    "id": "45kD_iqOMH47"
   },
   "source": [
    "full_data = full_data.sort_values(['sqft_living', 'price'])"
   ],
   "execution_count": 7,
   "outputs": []
  },
  {
   "cell_type": "markdown",
   "metadata": {
    "id": "glxnRQIvMH5D"
   },
   "source": [
    "Hãy xem lại  mô hình đa thức bậc 15 sử dụng đầu vào 'sqft_living'. Tạo các đặc trưng đa thức bậc 15 sử dụng `polynomial_dataframe()` và khớp mô hình với các đặc trưng này, sử dụng L2 penalty của `1e-5`:"
   ]
  },
  {
   "cell_type": "code",
   "metadata": {
    "id": "ifNuc9vyMH5F"
   },
   "source": [
    "l2_small_penalty = 1e-5"
   ],
   "execution_count": 8,
   "outputs": []
  },
  {
   "cell_type": "markdown",
   "metadata": {
    "id": "7N5PNVAKMH5O"
   },
   "source": [
    "\n",
    "Lưu ý: Nếu có quá nhiều đặc trưng và quá ít điểm dữ liệu, giải pháp có thể không ổn định về mặt số học, đôi khi có thể dẫn đến các kết quả kỳ lạ không thể đoán trước. Do đó, thay vì không sử dụng điều chuẩn, chúng ta sẽ đưa vào một ít điều chuẩn (`l2_penalty=1e-5`) để làm cho giải pháp ổn định về mặt số học. (Trong bài giảng, chúng ta đã thảo luận là điều chuẩn cũng có thể giúp ổn định số, ở đây chúng ta có một ví dụ thực tế.)\n",
    "\n",
    "Với L2 penalty trên, hãy khớp mô hình và in ra các trọng số tìm được. Có thể tham khảo [Hồi quy Ridge của sklearn](https://scikit-learn.org/stable/modules/generated/sklearn.linear_model.Ridge.html).\n",
    "\n",
    "Chúng ta cũng có thể chuẩn hóa các giá trị cho phân phối Gauss qua [StandardScaler của sklearn](https://scikit-learn.org/stable/modules/generated/sklearn.preprocessing.StandardScaler.html), vì các giá trị penalty điều chỉnh độ lớn của trọng số, tỷ lệ nghịch với các giá trị đa thức (rất lớn).  "
   ]
  },
  {
   "cell_type": "code",
   "metadata": {
    "id": "VCYXQCIPMH5Q"
   },
   "source": [
    "from sklearn.linear_model import Ridge, LinearRegression\n",
    "from sklearn.preprocessing import StandardScaler\n",
    "# Mức độ trợ giúp: vừa phải\n",
    "scaler = StandardScaler()\n",
    "poly_data = polynomial_dataframe(full_data['sqft_living'], 15)\n",
    "poly_features = scaler.fit_transform(poly_data.values)\n",
    "poly_labels = full_data['price'].values\n",
    "# hãy tự thực hiện tiếp\n",
    "ridge_model = Ridge(alpha=l2_small_penalty).fit(poly_features, poly_labels)\n",
    "print(ridge_model.coef_)"
   ],
   "execution_count": 9,
   "outputs": [
    {
     "name": "stdout",
     "output_type": "stream",
     "text": [
      "[  66302.8861112    69629.18248658  318517.57918021 -214032.49153798\n",
      "  -11942.64888294    -785.01485673   -2425.65579973    1844.69134914\n",
      "   -1112.58390264   -1300.13430765    1164.71408109    3544.54416876\n",
      "    2157.26004229   -2039.47889013     347.69928627]\n"
     ]
    }
   ]
  },
  {
   "cell_type": "markdown",
   "metadata": {
    "id": "rf9haUEmMH5d"
   },
   "source": [
    "***QUIZ:  Giá trị tìm được cho các hệ số của đặc trưng `power_1` là?***"
   ]
  },
  {
   "cell_type": "markdown",
   "metadata": {
    "id": "JB7ZkhDWMH5g"
   },
   "source": [
    "# Quan sát overfitting"
   ]
  },
  {
   "cell_type": "markdown",
   "metadata": {
    "id": "33LxBDqbMH5l"
   },
   "source": [
    "\n",
    "Theo lab trước, khớp đa thức bậc 15 thay đổi rất nhiều mỗi khi dữ liệu thay đổi. Cụ thể, khi chúng ta chia dữ liệu bán nhà thành 4 tập con và khớp mô hình bậc 15 thì kết quả của mỗi tập con lại khác; mô hình có *phương sai cao*. Chúng ta sẽ thấy ngay sau đây, hồi quy Ridge sẽ giảm phương sai đó. Nhưng trước tiên, chúng ta cần tái hiện lại những gì đã làm."
   ]
  },
  {
   "cell_type": "markdown",
   "metadata": {
    "id": "IYinkpENMH5n"
   },
   "source": [
    "Trước tiên, chia dữ liệu thành 4 tập con có kích thước tương tự nhau và gọi chúng là `set_1`, `set_2`, `set_3`, và `set_4`. Sử dụng hàm `train_test_split` và thiết lập `random_state=0`. "
   ]
  },
  {
   "cell_type": "code",
   "metadata": {
    "id": "dU9EfuonMH5o"
   },
   "source": [
    "from sklearn.model_selection import train_test_split\n",
    "seed = 20\n",
    "big_set_1, big_set_2 = train_test_split(full_data, train_size=0.5, test_size=0.5, random_state=0)\n",
    "set_1, set_2 = train_test_split(big_set_1, train_size=0.5, test_size=0.5, random_state=0)\n",
    "set_3, set_4 = train_test_split(big_set_2, train_size=0.5, test_size=0.5, random_state=0)\n",
    "\n"
   ],
   "execution_count": 10,
   "outputs": []
  },
  {
   "cell_type": "markdown",
   "metadata": {
    "id": "tUMvZSMOMH5t"
   },
   "source": [
    "Tiếp theo, khớp đa thức bậc 15 trong `set_1`, `set_2`, `set_3` và `set_4`, sử dụng 'sqft_living' để đoán giá. In các trọng số và vẽ biểu đồ mô hình kết quả."
   ]
  },
  {
   "cell_type": "code",
   "metadata": {
    "id": "FKafX2vyMH5w"
   },
   "source": [
    "# Chúng ta khớp sử dụng LinearRegression.\n",
    "set_1 = set_1.sort_values(['sqft_living','price'])\n",
    "set_2 = set_2.sort_values(['sqft_living','price'])\n",
    "set_3 = set_3.sort_values(['sqft_living','price'])\n",
    "set_4 = set_4.sort_values(['sqft_living','price'])\n",
    "\n",
    "\n",
    "poly15_set_1 = polynomial_dataframe(set_1['sqft_living'],15)\n",
    "poly15_set_2 = polynomial_dataframe(set_2['sqft_living'],15)\n",
    "poly15_set_3 = polynomial_dataframe(set_3['sqft_living'],15)\n",
    "poly15_set_4 = polynomial_dataframe(set_4['sqft_living'],15)\n",
    "\n",
    "\n",
    "features_poly1 = poly15_set_1.values\n",
    "features_poly2 = poly15_set_2.values\n",
    "features_poly3 = poly15_set_3.values\n",
    "features_poly4 = poly15_set_4.values\n",
    "\n",
    "poly15_set_1['price'] = set_1['price']\n",
    "poly15_set_2['price'] = set_2['price']\n",
    "poly15_set_3['price'] = set_3['price']\n",
    "poly15_set_4['price'] = set_4['price']\n",
    "\n",
    "\n",
    "labels_set_1 = poly15_set_1['price'].values\n",
    "labels_set_2 = poly15_set_2['price'].values\n",
    "labels_set_3 = poly15_set_3['price'].values\n",
    "labels_set_4 = poly15_set_4['price'].values\n",
    "\n",
    "model_1 = LinearRegression().fit(features_poly1, labels_set_1)\n",
    "model_2 = LinearRegression().fit(features_poly2, labels_set_2)\n",
    "model_3 = LinearRegression().fit(features_poly3, labels_set_3)\n",
    "model_4 = LinearRegression().fit(features_poly4, labels_set_4)\n",
    "\n"
   ],
   "execution_count": 12,
   "outputs": []
  },
  {
   "cell_type": "code",
   "metadata": {
    "id": "Mw-QEwOIMH6I"
   },
   "source": [
    "# Đừng quên quiz bên dưới.\n",
    "print(model_1.coef_)\n",
    "print()\n",
    "print(model_2.coef_)\n",
    "print()\n",
    "print(model_3.coef_)\n",
    "print()\n",
    "print(model_4.coef_)\n",
    "print()\n",
    "\n",
    "\n"
   ],
   "execution_count": 13,
   "outputs": [
    {
     "name": "stdout",
     "output_type": "stream",
     "text": [
      "[ 1.55278127e-05  3.30772613e-02  9.03715408e-06 -8.91732222e-10\n",
      " -2.10983229e-14 -1.40160895e-17 -1.01220947e-15  1.04225816e-15\n",
      "  8.12060569e-17 -1.02434178e-15  1.89313658e-16 -5.83009830e-16\n",
      "  1.27296501e-16 -4.38298304e-16  8.80316915e-16]\n",
      "\n",
      "[ 2.69136342e-05  5.29441366e-02  3.24246381e-07 -1.44056227e-10\n",
      " -8.98065460e-15  1.87666509e-16 -4.97187524e-16  1.10590863e-16\n",
      " -2.93309148e-16  4.54031824e-16 -6.59598370e-16  7.64742670e-16\n",
      "  6.62549660e-16  2.34909525e-16 -3.25989083e-16]\n",
      "\n",
      "[ 1.64251840e-05  4.07271229e-02  5.91860136e-06 -5.57764591e-10\n",
      " -5.47173490e-14 -6.43613282e-16 -2.79599287e-17  9.16051866e-17\n",
      " -6.76394281e-16  3.20359381e-16  5.46068591e-16  1.73494844e-15\n",
      "  2.52860520e-16 -6.40038059e-16 -7.83665970e-16]\n",
      "\n",
      "[ 3.43173341e-05  7.53302578e-02 -9.55952603e-06  8.26883704e-10\n",
      "  1.70746652e-14 -1.29007536e-16 -3.12114202e-16  1.27363736e-16\n",
      "  1.59457162e-16 -8.90065244e-16  6.51831714e-16  9.75275846e-16\n",
      "  1.13992752e-15 -6.90643610e-16  4.72749411e-16]\n",
      "\n"
     ]
    }
   ]
  },
  {
   "cell_type": "code",
   "execution_count": 21,
   "outputs": [
    {
     "data": {
      "text/plain": "Text(0.5, 1.0, 'Model 4')"
     },
     "execution_count": 21,
     "metadata": {},
     "output_type": "execute_result"
    },
    {
     "data": {
      "text/plain": "<Figure size 640x480 with 4 Axes>",
      "image/png": "[encoded data removed]"
     },
     "metadata": {},
     "output_type": "display_data"
    }
   ],
   "source": [
    "fig,axs = plt.subplots(2,2)\n",
    "axs[0,0].plot(poly15_set_1['power_1'],poly15_set_1['price'],'.',\n",
    "             poly15_set_1['power_1'],model_1.predict(features_poly1),'-')\n",
    "axs[0,0].set_title('Model 1')\n",
    "\n",
    "axs[0,1].plot(poly15_set_2['power_1'],poly15_set_2['price'],'.',\n",
    "             poly15_set_2['power_1'],model_2.predict(features_poly2),'-')\n",
    "axs[0,1].set_title('Model 2')\n",
    "\n",
    "axs[1,0].plot(poly15_set_3['power_1'],poly15_set_3['price'],'.',\n",
    "             poly15_set_3['power_1'],model_3.predict(features_poly3),'-')\n",
    "axs[1,0].set_title('Model 3')\n",
    "\n",
    "axs[1,1].plot(poly15_set_4['power_1'],poly15_set_4['price'],'.',\n",
    "             poly15_set_4['power_1'],model_4.predict(features_poly4),'-')\n",
    "axs[1,1].set_title('Model 4')\n"
   ],
   "metadata": {
    "collapsed": false
   }
  },
  {
   "cell_type": "code",
   "execution_count": 22,
   "outputs": [
    {
     "name": "stdout",
     "output_type": "stream",
     "text": [
      "1.552781267705459e-05 3.4317334067051986e-05\n"
     ]
    }
   ],
   "source": [
    "print(min(abs(model_1.coef_[0]),\n",
    "          abs(model_2.coef_[0]),\n",
    "          abs(model_3.coef_[0]),\n",
    "          abs(model_4.coef_[0])),\n",
    "      max(abs(model_1.coef_[0]),\n",
    "          abs(model_2.coef_[0]),\n",
    "          abs(model_3.coef_[0]),\n",
    "          abs(model_4.coef_[0])))"
   ],
   "metadata": {
    "collapsed": false
   }
  },
  {
   "cell_type": "markdown",
   "metadata": {
    "id": "BHXGHFkYMH6O"
   },
   "source": [
    "4 đồ thị cần khác nhau theo các hệ số đã thấy.\n",
    "\n",
    "***QUIZ:  Với các mô hình đã thấy trong mỗi tập huấn luyện, gía trị tuyệt đối nhỏ nhất và lớn nhất cho hệ số của đặc trưng `power_1` là?***"
   ]
  },
  {
   "cell_type": "markdown",
   "metadata": {
    "id": "VoPtjmQnMH6R"
   },
   "source": [
    "# Hồi quy Ridge"
   ]
  },
  {
   "cell_type": "markdown",
   "metadata": {
    "id": "KIWDTF17MH6S"
   },
   "source": [
    "Nhìn chung, bất cứ khi nào thấy trọng số thay đổi quá nhiều đế đáp ứng thay đổi trong dữ liệu thì phương sai của ước tính cũng lớn. Hồi quy Ridge giúp giải quyết vấn đề này bằng cách phạt các trọng số \"lớn\" (Các trọng số của `model15` trông khá nhỏ nhưng chúng không hề nhỏ vì đầu vào 'sqft_living' theo đơn vị hàng nghìn).\n",
    "\n",
    "Với đối số `l2_penalty=1e3`, hãy khớp mô hình đa thức bậc 15 trong `set_1`, `set_2`, `set_3` và `set_4`. Ngoài thay đổi trong `l2_penalty`, code <u>cũng cần tương tự</u> như phép thử trên."
   ]
  },
  {
   "cell_type": "code",
   "metadata": {
    "scrolled": false,
    "id": "MGol3bQWMH6T"
   },
   "source": [
    "l2_penalty=1e3"
   ],
   "execution_count": 23,
   "outputs": []
  },
  {
   "cell_type": "code",
   "metadata": {
    "scrolled": false,
    "id": "34zUlob1MH6Z"
   },
   "source": [
    "rigde_set_1 = Ridge(alpha=l2_penalty).fit(features_poly1,labels_set_1)\n",
    "rigde_set_2 = Ridge(alpha=l2_penalty).fit(features_poly2,labels_set_2)\n",
    "rigde_set_3 = Ridge(alpha=l2_penalty).fit(features_poly3,labels_set_3)\n",
    "rigde_set_4 = Ridge(alpha=l2_penalty).fit(features_poly4,labels_set_4)"
   ],
   "execution_count": 24,
   "outputs": [
    {
     "name": "stderr",
     "output_type": "stream",
     "text": [
      "C:\\Users\\NCPC\\anaconda3\\lib\\site-packages\\sklearn\\linear_model\\_ridge.py:157: LinAlgWarning: Ill-conditioned matrix (rcond=5.85805e-35): result may not be accurate.\n",
      "  return linalg.solve(A, Xy, sym_pos=True, overwrite_a=True).T\n",
      "C:\\Users\\NCPC\\anaconda3\\lib\\site-packages\\sklearn\\linear_model\\_ridge.py:157: LinAlgWarning: Ill-conditioned matrix (rcond=4.41545e-35): result may not be accurate.\n",
      "  return linalg.solve(A, Xy, sym_pos=True, overwrite_a=True).T\n",
      "C:\\Users\\NCPC\\anaconda3\\lib\\site-packages\\sklearn\\linear_model\\_ridge.py:157: LinAlgWarning: Ill-conditioned matrix (rcond=1.14304e-34): result may not be accurate.\n",
      "  return linalg.solve(A, Xy, sym_pos=True, overwrite_a=True).T\n",
      "C:\\Users\\NCPC\\anaconda3\\lib\\site-packages\\sklearn\\linear_model\\_ridge.py:157: LinAlgWarning: Ill-conditioned matrix (rcond=6.48989e-35): result may not be accurate.\n",
      "  return linalg.solve(A, Xy, sym_pos=True, overwrite_a=True).T\n"
     ]
    }
   ]
  },
  {
   "cell_type": "code",
   "metadata": {
    "id": "aLll4AbHMH6g"
   },
   "source": [
    "\n",
    "fig, axs = plt.subplots(2, 2)\n",
    "axs[0, 0].plot(poly15_set_1['power_1'],poly15_set_1['price'],'.',\n",
    "        poly15_set_1['power_1'], rigde_set_1.predict(features_poly1),'-')\n",
    "axs[0, 0].set_title('Model 1')\n",
    "\n",
    "axs[0, 1].plot(poly15_set_2['power_1'],poly15_set_2['price'],'.',\n",
    "        poly15_set_2['power_1'], rigde_set_2.predict(features_poly2),'-')\n",
    "axs[0, 1].set_title('Model 2')\n",
    "\n",
    "axs[1, 0].plot(poly15_set_3['power_1'],poly15_set_3['price'],'.',\n",
    "        poly15_set_3['power_1'], rigde_set_2.predict(features_poly3),'-')\n",
    "axs[1, 0].set_title('Model 3')\n",
    "\n",
    "axs[1, 1].plot(poly15_set_4['power_1'],poly15_set_4['price'],'.',\n",
    "        poly15_set_4['power_1'], rigde_set_4.predict(features_poly4),'-')\n",
    "axs[1, 1].set_title('Model 4')\n",
    "\n",
    "for ax in axs.flat:\n",
    "    ax.set(xlabel='sqft_living', ylabel='price')\n",
    "\n",
    "# Hide x labels and tick labels for top plots and y ticks for right plots.\n",
    "for ax in axs.flat:\n",
    "    ax.label_outer()"
   ],
   "execution_count": 25,
   "outputs": [
    {
     "data": {
      "text/plain": "<Figure size 640x480 with 4 Axes>",
      "image/png": "[encoded data removed]"
     },
     "metadata": {},
     "output_type": "display_data"
    }
   ]
  },
  {
   "cell_type": "code",
   "metadata": {
    "id": "miFqMNCXMH6o"
   },
   "source": [
    "print(min(model_1.coef_[0],\n",
    "      model_2.coef_[0],\n",
    "      model_3.coef_[0],\n",
    "      model_4.coef_[0]),\n",
    "      max(model_1.coef_[0],\n",
    "      model_2.coef_[0],\n",
    "      model_3.coef_[0],\n",
    "      model_4.coef_[0],))"
   ],
   "execution_count": 29,
   "outputs": [
    {
     "name": "stdout",
     "output_type": "stream",
     "text": [
      "1.552781267705459e-05 3.4317334067051986e-05\n"
     ]
    }
   ]
  },
  {
   "cell_type": "markdown",
   "metadata": {
    "id": "cZ-xpdVfMH6u"
   },
   "source": [
    "Các đồ thị thay đổi khá ít, giờ hãy áp dụng điều chuẩn bậc cao hơn.\n",
    "\n",
    "***QUIZ:  Với các mô hình đã thấy có điều chuẩn mức độ cao hơn trong từng tập huấn luyện, giá trị nhỏ nhất và lớn nhất cho hệ số của đặc trưng `power_1` là bao nhiêu?*** (Với câu này, các số âm nhỏ hơn số dương, chẳng hạn: -5 < -3 < 5,..)"
   ]
  },
  {
   "cell_type": "markdown",
   "metadata": {
    "id": "wugqYf-MMH6w"
   },
   "source": [
    "## Chọn L2 penalty qua kiểm định chéo "
   ]
  },
  {
   "cell_type": "markdown",
   "metadata": {
    "id": "dzT-BhisMH6x"
   },
   "source": [
    "Cũng giống như bậc đa thức, L2 penalty là tham số mà chúng ta cần lựa chọn. Chúng ta có thể sử dụng tập kiểm định như đã làm trước đó, nhưng cách tiếp cận này có một nhược điểm lớn: nó để lại ít quan sát hơn cho việc huấn luyện. **Kiểm định chéo** khắc phục vấn đề này bằng cách sử dụng tất cả các tập huấn luyện một cách thông minh.\n",
    "\n",
    "Chúng ta sẽ triển khai một loại kiểm định chéo là **kiểm định chéo k-fold**. Phương thức này có tên như vậy vì nó liên quan đến việc chia tập huấn luyện thành k segment (phân đoạn) có kích thước như nhau. Tương tự như phương pháp tập kiểm định, chúng ta đo lỗi kiểm định với một trong các phân đoạn được chỉ định làm tập kiểm định. Khác biệt chính là chúng ta lặp lại quy trình k lần như sau:\n",
    "\n",
    "Đặt segment 0 là tập kiểm định, khớp mô hình với các dữ liệu còn lại và đánh giá nó trên tập kiểm định này.<br>\n",
    "Đặt segment 1 là tập kiểm định, khớp mô hình với các dữ liệu còn lại và đánh giá nó trên tập kiểm định này.<br>\n",
    "...<br>\n",
    "Đặt segment k-1 là tập kiểm định, khớp mô hình với các dữ liệu còn lại và đánh giá nó trên tập kiểm định này.\n",
    "\n",
    "Sau quá trình này, chúng ta tính giá trị trung bình của k lỗi kiểm định và sử dụng nó để ước tính sai số tổng quát hóa. Lưu ý rằng tất cả các quan sát được sử dụng cho cả huấn luyện và kiểm định khi lặp lại các phân đoạn dữ liệu.\n",
    "\n",
    "Để ước tính tốt sai số tổng quát hóa, cần xáo trộn dữ liệu huấn luyện trước khi chia chúng thành các segment. Sklearn có hàm shuffle nên chúng ta sẽ sử dụng hàm này. "
   ]
  },
  {
   "cell_type": "code",
   "metadata": {
    "id": "HXnQwfyoMH61"
   },
   "source": [
    "train_and_validation, test_data = train_test_split(full_data, train_size=0.9, test_size=0.1, random_state=1)\n",
    "train_and_validation = sklearn.utils.shuffle(train_and_validation, random_state=1)"
   ],
   "execution_count": 30,
   "outputs": []
  },
  {
   "cell_type": "markdown",
   "metadata": {
    "id": "ayYvIzSYMH66"
   },
   "source": [
    "Khi dữ liệu đã được xáo trộn, chúng ta sẽ chia nó thành các segment bằng nhau, mỗi segment sẽ nhận `n/k` phần tử, trong đó `n` là số lượng quan sát trong tập huấn luyện còn `k` là số lượng segment. Do segment 0 bắt đầu tại chỉ mục 0 và chứa `n/k` phần tử nên nó sẽ chấm dứt ở chỉ mục `(n/k)-1`. Segment 1 bắt đầu tại vị trí của segment 0 ở chỉ mục `(n/k)`.Với `n/k` phần tử, segment 1 ngừng ở chỉ mục `(n*2/k)-1`. Tiếp tục cho tới chỉ mục `i` bắt đầu tại chỉ mục `(n*i/k)` và ngừng ở `(n*(i+1)/k)-1`."
   ]
  },
  {
   "cell_type": "markdown",
   "metadata": {
    "id": "RAQD4ox1MH67"
   },
   "source": [
    "Với mô hình này, chúng ta viết một vòng lặp ngắn in các chỉ số bắt đầu và kết thúc của mỗi segment để đảm bảo chúng ta đang thực hiện đúng các phân tách."
   ]
  },
  {
   "cell_type": "code",
   "metadata": {
    "id": "dheyb20lMH68"
   },
   "source": [
    "n = len(train_and_validation)\n",
    "k = 10 # kiểm định chéo 10-fold \n",
    "\n",
    "for i in range(k):\n",
    "    start = (n*i)//k\n",
    "    end = (n*(i+1))//k-1\n",
    "    print(i, (start, end))"
   ],
   "execution_count": 31,
   "outputs": [
    {
     "name": "stdout",
     "output_type": "stream",
     "text": [
      "0 (0, 1944)\n",
      "1 (1945, 3889)\n",
      "2 (3890, 5834)\n",
      "3 (5835, 7779)\n",
      "4 (7780, 9724)\n",
      "5 (9725, 11669)\n",
      "6 (11670, 13614)\n",
      "7 (13615, 15559)\n",
      "8 (15560, 17504)\n",
      "9 (17505, 19450)\n"
     ]
    }
   ]
  },
  {
   "cell_type": "markdown",
   "metadata": {
    "id": "SCWf-zc0MH7D"
   },
   "source": [
    "Một trong những ưu điểm của thư viện dữ liệu nói chung là khả năng chấp nhận các slice. Để trích xuất một slice liên tục từ DataFrame, hãy sử dụng dấu hai chấm \":\" trong dấu ngoặc vuông \"[]\". Ví dụ: cell sau đây trích xuất các hàng từ 0 đến 9 của `train_and_validation`. Lưu ý rằng chỉ mục đầu tiên (0) được chứa trong slice nhưng chỉ mục cuối cùng (10) bị bỏ qua."
   ]
  },
  {
   "cell_type": "code",
   "metadata": {
    "id": "d1OlHZH9MH7E"
   },
   "source": [
    "train_and_validation[0:10] # rows 0 to 9"
   ],
   "execution_count": 32,
   "outputs": [
    {
     "data": {
      "text/plain": "                       date      price  bedrooms  bathrooms  sqft_living  \\\nid                                                                         \n6123600285  20141107T000000   185000.0         3       1.50         1010   \n3323059027  20140528T000000   326000.0         3       2.75         1720   \n5316100920  20140725T000000  2250000.0         3       4.25         5150   \n4315700175  20140612T000000   440000.0         3       1.00         1210   \n303000445   20140523T000000   175000.0         2       1.00         1300   \n2130410050  20140513T000000   287000.0         3       2.25         1490   \n7972601885  20150430T000000   350000.0         5       1.75         1380   \n3362400511  20150304T000000   570000.0         3       1.75         1260   \n7889600190  20150113T000000   229000.0         3       1.00         1590   \n452002135   20150422T000000  1070000.0         4       2.50         2740   \n\n            sqft_lot  floors  waterfront  view  condition  grade  sqft_above  \\\nid                                                                             \n6123600285      7755     1.0           0     0          3      6        1010   \n3323059027     28000     1.0           0     0          4      7        1720   \n5316100920      7800     2.5           0     2          3     11        4170   \n4315700175      5750     1.5           0     0          4      7        1210   \n303000445      44431     1.0           0     0          5      6        1300   \n2130410050      9600     1.0           0     0          4      7        1170   \n7972601885      7620     1.0           0     0          3      7        1180   \n3362400511      3328     1.0           0     0          5      6         700   \n7889600190      6240     1.0           0     0          3      7        1060   \n452002135       5000     2.0           0     0          3      9        2740   \n\n            sqft_basement  yr_built  yr_renovated  zipcode      lat     long  \\\nid                                                                             \n6123600285              0      1953             0    98148  47.4238 -122.332   \n3323059027              0      1958             0    98058  47.4375 -122.176   \n5316100920            980      1954             0    98112  47.6288 -122.282   \n4315700175              0      1910             0    98136  47.5403 -122.391   \n303000445               0      1958             0    98001  47.3270 -122.267   \n2130410050            320      1987             0    98019  47.7378 -121.977   \n7972601885            200      1955             0    98106  47.5279 -122.345   \n3362400511            560      1905             0    98103  47.6823 -122.349   \n7889600190            530      1956             0    98146  47.4936 -122.337   \n452002135               0      2012             0    98107  47.6740 -122.371   \n\n            sqft_living15  sqft_lot15  \nid                                     \n6123600285           1270        8350  \n3323059027           2000       41817  \n5316100920           4270        7800  \n4315700175           1160        5000  \n303000445            1470       14850  \n2130410050           1590       10104  \n7972601885           1990        7620  \n3362400511           1380        3536  \n7889600190           1410        6240  \n452002135            1660        5000  ",
      "text/html": "<div>\n<style scoped>\n    .dataframe tbody tr th:only-of-type {\n        vertical-align: middle;\n    }\n\n    .dataframe tbody tr th {\n        vertical-align: top;\n    }\n\n    .dataframe thead th {\n        text-align: right;\n    }\n</style>\n<table border=\"1\" class=\"dataframe\">\n  <thead>\n    <tr style=\"text-align: right;\">\n      <th></th>\n      <th>date</th>\n      <th>price</th>\n      <th>bedrooms</th>\n      <th>bathrooms</th>\n      <th>sqft_living</th>\n      <th>sqft_lot</th>\n      <th>floors</th>\n      <th>waterfront</th>\n      <th>view</th>\n      <th>condition</th>\n      <th>grade</th>\n      <th>sqft_above</th>\n      <th>sqft_basement</th>\n      <th>yr_built</th>\n      <th>yr_renovated</th>\n      <th>zipcode</th>\n      <th>lat</th>\n      <th>long</th>\n      <th>sqft_living15</th>\n      <th>sqft_lot15</th>\n    </tr>\n    <tr>\n      <th>id</th>\n      <th></th>\n      <th></th>\n      <th></th>\n      <th></th>\n      <th></th>\n      <th></th>\n      <th></th>\n      <th></th>\n      <th></th>\n      <th></th>\n      <th></th>\n      <th></th>\n      <th></th>\n      <th></th>\n      <th></th>\n      <th></th>\n      <th></th>\n      <th></th>\n      <th></th>\n      <th></th>\n    </tr>\n  </thead>\n  <tbody>\n    <tr>\n      <th>6123600285</th>\n      <td>20141107T000000</td>\n      <td>185000.0</td>\n      <td>3</td>\n      <td>1.50</td>\n      <td>1010</td>\n      <td>7755</td>\n      <td>1.0</td>\n      <td>0</td>\n      <td>0</td>\n      <td>3</td>\n      <td>6</td>\n      <td>1010</td>\n      <td>0</td>\n      <td>1953</td>\n      <td>0</td>\n      <td>98148</td>\n      <td>47.4238</td>\n      <td>-122.332</td>\n      <td>1270</td>\n      <td>8350</td>\n    </tr>\n    <tr>\n      <th>3323059027</th>\n      <td>20140528T000000</td>\n      <td>326000.0</td>\n      <td>3</td>\n      <td>2.75</td>\n      <td>1720</td>\n      <td>28000</td>\n      <td>1.0</td>\n      <td>0</td>\n      <td>0</td>\n      <td>4</td>\n      <td>7</td>\n      <td>1720</td>\n      <td>0</td>\n      <td>1958</td>\n      <td>0</td>\n      <td>98058</td>\n      <td>47.4375</td>\n      <td>-122.176</td>\n      <td>2000</td>\n      <td>41817</td>\n    </tr>\n    <tr>\n      <th>5316100920</th>\n      <td>20140725T000000</td>\n      <td>2250000.0</td>\n      <td>3</td>\n      <td>4.25</td>\n      <td>5150</td>\n      <td>7800</td>\n      <td>2.5</td>\n      <td>0</td>\n      <td>2</td>\n      <td>3</td>\n      <td>11</td>\n      <td>4170</td>\n      <td>980</td>\n      <td>1954</td>\n      <td>0</td>\n      <td>98112</td>\n      <td>47.6288</td>\n      <td>-122.282</td>\n      <td>4270</td>\n      <td>7800</td>\n    </tr>\n    <tr>\n      <th>4315700175</th>\n      <td>20140612T000000</td>\n      <td>440000.0</td>\n      <td>3</td>\n      <td>1.00</td>\n      <td>1210</td>\n      <td>5750</td>\n      <td>1.5</td>\n      <td>0</td>\n      <td>0</td>\n      <td>4</td>\n      <td>7</td>\n      <td>1210</td>\n      <td>0</td>\n      <td>1910</td>\n      <td>0</td>\n      <td>98136</td>\n      <td>47.5403</td>\n      <td>-122.391</td>\n      <td>1160</td>\n      <td>5000</td>\n    </tr>\n    <tr>\n      <th>303000445</th>\n      <td>20140523T000000</td>\n      <td>175000.0</td>\n      <td>2</td>\n      <td>1.00</td>\n      <td>1300</td>\n      <td>44431</td>\n      <td>1.0</td>\n      <td>0</td>\n      <td>0</td>\n      <td>5</td>\n      <td>6</td>\n      <td>1300</td>\n      <td>0</td>\n      <td>1958</td>\n      <td>0</td>\n      <td>98001</td>\n      <td>47.3270</td>\n      <td>-122.267</td>\n      <td>1470</td>\n      <td>14850</td>\n    </tr>\n    <tr>\n      <th>2130410050</th>\n      <td>20140513T000000</td>\n      <td>287000.0</td>\n      <td>3</td>\n      <td>2.25</td>\n      <td>1490</td>\n      <td>9600</td>\n      <td>1.0</td>\n      <td>0</td>\n      <td>0</td>\n      <td>4</td>\n      <td>7</td>\n      <td>1170</td>\n      <td>320</td>\n      <td>1987</td>\n      <td>0</td>\n      <td>98019</td>\n      <td>47.7378</td>\n      <td>-121.977</td>\n      <td>1590</td>\n      <td>10104</td>\n    </tr>\n    <tr>\n      <th>7972601885</th>\n      <td>20150430T000000</td>\n      <td>350000.0</td>\n      <td>5</td>\n      <td>1.75</td>\n      <td>1380</td>\n      <td>7620</td>\n      <td>1.0</td>\n      <td>0</td>\n      <td>0</td>\n      <td>3</td>\n      <td>7</td>\n      <td>1180</td>\n      <td>200</td>\n      <td>1955</td>\n      <td>0</td>\n      <td>98106</td>\n      <td>47.5279</td>\n      <td>-122.345</td>\n      <td>1990</td>\n      <td>7620</td>\n    </tr>\n    <tr>\n      <th>3362400511</th>\n      <td>20150304T000000</td>\n      <td>570000.0</td>\n      <td>3</td>\n      <td>1.75</td>\n      <td>1260</td>\n      <td>3328</td>\n      <td>1.0</td>\n      <td>0</td>\n      <td>0</td>\n      <td>5</td>\n      <td>6</td>\n      <td>700</td>\n      <td>560</td>\n      <td>1905</td>\n      <td>0</td>\n      <td>98103</td>\n      <td>47.6823</td>\n      <td>-122.349</td>\n      <td>1380</td>\n      <td>3536</td>\n    </tr>\n    <tr>\n      <th>7889600190</th>\n      <td>20150113T000000</td>\n      <td>229000.0</td>\n      <td>3</td>\n      <td>1.00</td>\n      <td>1590</td>\n      <td>6240</td>\n      <td>1.0</td>\n      <td>0</td>\n      <td>0</td>\n      <td>3</td>\n      <td>7</td>\n      <td>1060</td>\n      <td>530</td>\n      <td>1956</td>\n      <td>0</td>\n      <td>98146</td>\n      <td>47.4936</td>\n      <td>-122.337</td>\n      <td>1410</td>\n      <td>6240</td>\n    </tr>\n    <tr>\n      <th>452002135</th>\n      <td>20150422T000000</td>\n      <td>1070000.0</td>\n      <td>4</td>\n      <td>2.50</td>\n      <td>2740</td>\n      <td>5000</td>\n      <td>2.0</td>\n      <td>0</td>\n      <td>0</td>\n      <td>3</td>\n      <td>9</td>\n      <td>2740</td>\n      <td>0</td>\n      <td>2012</td>\n      <td>0</td>\n      <td>98107</td>\n      <td>47.6740</td>\n      <td>-122.371</td>\n      <td>1660</td>\n      <td>5000</td>\n    </tr>\n  </tbody>\n</table>\n</div>"
     },
     "execution_count": 32,
     "metadata": {},
     "output_type": "execute_result"
    }
   ]
  },
  {
   "cell_type": "markdown",
   "metadata": {
    "id": "BVejNgM7MH7K"
   },
   "source": [
    "Giờ hãy trích xuất segment riêng với cắt mảng. Chúng ta nhóm các ngôi nhà trong dataframe `train_and_validation` thành k=10 segment có kích thước như nhau với chỉ mục đầu và kết thúc được tính như trên. Trích xuất segment thứ 4 (segment 3) và gán nó cho biến `validation4`. "
   ]
  },
  {
   "cell_type": "code",
   "metadata": {
    "id": "rEYQLIo3MH7L"
   },
   "source": [
    "start = (n * 3)//k\n",
    "end = (n *(3+1))//k-1\n",
    "validation4 = train_and_validation[start:end]"
   ],
   "execution_count": 35,
   "outputs": []
  },
  {
   "cell_type": "markdown",
   "metadata": {
    "id": "rpbBFCx5MH7R"
   },
   "source": [
    "\n",
    "Để xác minh rằng chúng ta đã trích xuất đúng các phần tử, hãy chạy cell sau, cell này sẽ tính giá trung bình của segment thứ tư. Khi làm tròn đến số nguyên gần nhất, giá trị trung bình sẽ là 544,330 USD."
   ]
  },
  {
   "cell_type": "code",
   "metadata": {
    "id": "PkXCYyxYMH7T"
   },
   "source": [
    "print( round(validation4['price'].mean(), 0) )"
   ],
   "execution_count": 36,
   "outputs": [
    {
     "name": "stdout",
     "output_type": "stream",
     "text": [
      "545311.0\n"
     ]
    }
   ]
  },
  {
   "cell_type": "markdown",
   "metadata": {
    "id": "ZJPG1EaHMH7Y"
   },
   "source": [
    "Sau khi chỉ định một trong k segment làm tập kiểm định, chúng ta huấn luyện một mô hình với dữ liệu còn lại. Để chọn phần còn lại, chúng ta cắt (0:start) và (end+1:n) của dữ liệu và paste chúng lại với nhau. DataFrame có phương thức `append()` paste hai tập hợp hàng rời rạc từ một tập dữ liệu chung. Ví dụ: cell sau sẽ paste hàng đầu tiên và cuối cùng của dataframe `train_and_validation`."
   ]
  },
  {
   "cell_type": "code",
   "metadata": {
    "id": "qao1cWIWMH7a"
   },
   "source": [
    "n = len(train_and_validation)\n",
    "first_two = train_and_validation[0:2]\n",
    "last_two = train_and_validation[n-2:n]\n",
    "print(first_two.append(last_two))"
   ],
   "execution_count": 37,
   "outputs": [
    {
     "name": "stdout",
     "output_type": "stream",
     "text": [
      "                       date      price  bedrooms  bathrooms  sqft_living  \\\n",
      "id                                                                         \n",
      "6123600285  20141107T000000   185000.0         3       1.50         1010   \n",
      "3323059027  20140528T000000   326000.0         3       2.75         1720   \n",
      "6151800612  20150107T000000   162000.0         4       1.00         1460   \n",
      "1088100450  20140725T000000  1720000.0         5       4.00         4590   \n",
      "\n",
      "            sqft_lot  floors  waterfront  view  condition  grade  sqft_above  \\\n",
      "id                                                                             \n",
      "6123600285      7755     1.0           0     0          3      6        1010   \n",
      "3323059027     28000     1.0           0     0          4      7        1720   \n",
      "6151800612     16638     1.0           0     0          4      6        1460   \n",
      "1088100450     35046     2.0           0     0          3     10        4590   \n",
      "\n",
      "            sqft_basement  yr_built  yr_renovated  zipcode      lat     long  \\\n",
      "id                                                                             \n",
      "6123600285              0      1953             0    98148  47.4238 -122.332   \n",
      "3323059027              0      1958             0    98058  47.4375 -122.176   \n",
      "6151800612              0      1975             0    98010  47.3431 -122.048   \n",
      "1088100450              0      2008             0    98033  47.6647 -122.160   \n",
      "\n",
      "            sqft_living15  sqft_lot15  \n",
      "id                                     \n",
      "6123600285           1270        8350  \n",
      "3323059027           2000       41817  \n",
      "6151800612           1460       16638  \n",
      "1088100450           3350       35857  \n"
     ]
    },
    {
     "name": "stderr",
     "output_type": "stream",
     "text": [
      "C:\\Users\\NCPC\\AppData\\Local\\Temp\\ipykernel_944\\2964745986.py:4: FutureWarning: The frame.append method is deprecated and will be removed from pandas in a future version. Use pandas.concat instead.\n",
      "  print(first_two.append(last_two))\n"
     ]
    }
   ]
  },
  {
   "cell_type": "markdown",
   "metadata": {
    "id": "PcQb83MxMH7f"
   },
   "source": [
    "Trích xuất phần dữ liệu còn lại sau khi đã *loại trừ* segment thứ 4 (segment 3) và gán tập con cho `train4`."
   ]
  },
  {
   "cell_type": "code",
   "metadata": {
    "id": "NHBeNdXNMH7i"
   },
   "source": [
    "# segment thứ 4 bắt đầu và kết thúc ở đâu? .append có tác dụng gì?\n",
    "train4 = train_and_validation[0:start].append(train_and_validation[end+1:n])"
   ],
   "execution_count": 38,
   "outputs": [
    {
     "name": "stderr",
     "output_type": "stream",
     "text": [
      "C:\\Users\\NCPC\\AppData\\Local\\Temp\\ipykernel_944\\3428616077.py:2: FutureWarning: The frame.append method is deprecated and will be removed from pandas in a future version. Use pandas.concat instead.\n",
      "  train4 = train_and_validation[0:start].append(train_and_validation[end+1:n])\n"
     ]
    }
   ]
  },
  {
   "cell_type": "markdown",
   "metadata": {
    "id": "9gwRZPGKMH7o"
   },
   "source": [
    "Để xác minh rằng chúng ta đã trích xuất đúng các phần tử, hãy chạy cell sau, cell này sẽ tính giá trung bình của segment thứ tư. Khi làm tròn đến số nguyên gần nhất, giá trị trung bình sẽ là 540,120 USD."
   ]
  },
  {
   "cell_type": "code",
   "metadata": {
    "id": "bzsyZHH6MH7s"
   },
   "source": [
    "print( round(train4['price'].mean(), 0) )"
   ],
   "execution_count": 39,
   "outputs": [
    {
     "name": "stdout",
     "output_type": "stream",
     "text": [
      "540120.0\n"
     ]
    }
   ]
  },
  {
   "cell_type": "markdown",
   "metadata": {
    "id": "JHkgU6KyMH7x"
   },
   "source": [
    "Chúng ta đã sẵn sàng để triển khai kiểm định chéo k-fold. Viết một hàm tính k lỗi kiểm định bằng cách chỉ định từng segment trong số k segment làm tập kiểm định. Nó chấp nhận dưới dạng các tham số (i) `k`, (ii) `l2_penalty`, (iii) dataframe, (iv) tên của cột đầu ra (ví dụ: `price`) và (v) danh sách tên các đặc trưng. Hàm trả về lỗi kiểm định trung bình bằng cách sử dụng k segment làm tập kiểm định.\n",
    "\n",
    "* Với từng i trong [0, 1, ..., k-1]:\n",
    "  * Tính chỉ mục bắt đầu và kết thúc của segment i và gọi 'start' và 'end'\n",
    "  * Tạo tập kiểm định bằng cách lấy slice (start:end+1) từ dữ liệu.  \n",
    "  * Tạo tập kiểm định bằng cách nối slice (end+1:n) với cuối của slice (0:start). \n",
    "  * Huấn luyện mô hình tuyến tính dùng tập huấn luyện vừa tạo với l2_penalty đã cho. \n",
    "  * Tính lỗi kiểm định sử dụng tập kiểm định vừa tạo. \n",
    "\n",
    "Sklearn cũng có hàm `mean_squared_error` tích hợp sẵn."
   ]
  },
  {
   "cell_type": "code",
   "metadata": {
    "id": "mYbI8bmyMH7z"
   },
   "source": [
    "from sklearn.metrics import mean_squared_error\n",
    "\n",
    "def k_fold_cross_validation(k, l2_penalty, data, output_name, features_list):\n",
    "    n = len(data)\n",
    "    mean_error = 0\n",
    "    for i in range(k):\n",
    "      start = (n * i) // k\n",
    "      end = (n*(i+1)) // k-1\n",
    "\n",
    "      validation = data[start:end+1]\n",
    "      training = data[0:start].append(data[end+1:n])\n",
    "\n",
    "      model = Ridge(alpha = l2_penalty).fit(training[features_list].values, training[output_name].values)\n",
    "\n",
    "      mean_error += mean_squared_error(validation[output_name].values, model.predict(validation[features_list].values))\n",
    "    return (mean_error / k)"
   ],
   "execution_count": 47,
   "outputs": []
  },
  {
   "cell_type": "markdown",
   "metadata": {
    "id": "Zr2zhJrTMH75"
   },
   "source": [
    "Chúng ta đã có một hàm tính toán lỗi kiểm định trung bình cho mô hình, hãy viết một vòng lặp để tìm mô hình tối thiểu hóa lỗi kiểm định trung bình, thực hiện như sau:\n",
    "* Chúng ta sẽ khớp mô hình đa thức bậc 15 sử dụng đầu vào `sqft_living`.\n",
    "* Với `l2_penalty` trong [10^0, 10^0.5, 10^1, 10^1.5, ..., 10^2] (trong Python, chúng ta sẽ dùng hàm Numpy sau: `np.logspace(0, 10, num=21)`.)\n",
    "    * Chạy kiểm định chéo 10-fold với `l2_penalty`\n",
    "* Báo lại L2 penalty nào cho lỗi kiểm định trung bình thấp nhất.\n",
    "\n",
    "Lưu ý: vì bậc của đa thức hiện được cố định là 15, để mọi thứ nhanh hơn, chúng ta hãy tạo các đặc trưng của đa thức trước và sử dụng lại chúng trong suốt vòng lặp. Hãy dùng `train_and_validation` khi tạo các đối tượng đa thức!\n",
    "\n",
    "Nếu thấy nhiều màu đỏ từ `scipy.linalg.solve`, hãy import `warnings` và sử dụng `warnings.filterwarnings('ignore')`. Đây không phải là phương pháp tốt nhất nhưng lại hữu ích. Sau khi đã hoàn tất, hãy đặt `warnings.resetwarnings()` để chuyển nó trở lại bình thường."
   ]
  },
  {
   "cell_type": "code",
   "metadata": {
    "id": "yydEZVn_MH77"
   },
   "source": [
    "import warnings\n",
    "warnings.filterwarnings('ignore')\n",
    "data = polynomial_dataframe(train_and_validation['sqft_living'], 15)\n",
    "\n",
    "features = data.columns\n",
    "\n",
    "data['price'] = train_and_validation['price']\n",
    "\n",
    "k = 10\n",
    "\n",
    "arr_errors = []\n",
    "for l2_penalty in np.logspace(0, 10, num=21):\n",
    "  arr_errors.append(k_fold_cross_validation(k, l2_penalty, data, 'price', features))\n",
    "\n",
    "arr_errors\n"
   ],
   "execution_count": 48,
   "outputs": [
    {
     "data": {
      "text/plain": "[65982812110.799255,\n 65982812096.45408,\n 65982812051.0906,\n 65982811907.6393,\n 65982811454.00603,\n 65982810019.498856,\n 65982805483.2478,\n 65982791138.95668,\n 65982745784.25974,\n 65982602419.45648,\n 65982149652.72839,\n 65980723779.13521,\n 65976272984.47843,\n 65962756471.07561,\n 65924926809.387535,\n 65839673606.52464,\n 65716806811.286255,\n 65621019138.10636,\n 65576295887.10531,\n 65560158471.7108,\n 65554837975.93205]"
     },
     "execution_count": 48,
     "metadata": {},
     "output_type": "execute_result"
    }
   ]
  },
  {
   "cell_type": "markdown",
   "metadata": {
    "id": "HtOYofhRMH8G"
   },
   "source": [
    "***QUIZ:  Giá trị tốt nhất cho L2 penalty theo kiểm định 10-fold là bao nhiêu?***"
   ]
  },
  {
   "cell_type": "code",
   "execution_count": 50,
   "outputs": [
    {
     "data": {
      "text/plain": "10000000000.0"
     },
     "execution_count": 50,
     "metadata": {},
     "output_type": "execute_result"
    }
   ],
   "source": [
    "best_l2_penalty = np.logspace(0, 10, num = 21)[arr_errors.index(min(arr_errors))]\n",
    "best_l2_penalty"
   ],
   "metadata": {
    "collapsed": false
   }
  },
  {
   "cell_type": "markdown",
   "metadata": {
    "id": "7_Ii1d_YMH8I"
   },
   "source": [
    "Sẽ rất hữu ích khi vẽ các lỗi kiểm định chéo k-fold mà chúng ta có được để hiểu rõ hơn cách xử lý của phương thức. Chúng ta cũng có thể dùng `plt.xscale('log')` cho biểu đồ trực quan. [Quitter.](https://xkcd.com/1162/)"
   ]
  },
  {
   "cell_type": "code",
   "metadata": {
    "id": "KxPQK30CMH8L"
   },
   "source": [
    "# Vẽ các giá trị l2-penalty (có thể trong log) trên trục x và lỗi kiểm định chéo trên trục y\n",
    "plt.plot(np.logspace(0,10, num = 21), arr_errors, 'k-')\n",
    "plt.xlabel('\\L2 penalty')\n",
    "plt.ylabel('average validation error')\n",
    "plt.xscale('log')\n",
    "plt.yscale('log')\n",
    "\n"
   ],
   "execution_count": 52,
   "outputs": [
    {
     "data": {
      "text/plain": "<Figure size 640x480 with 1 Axes>",
      "image/png": "[encoded data removed]"
     },
     "metadata": {},
     "output_type": "display_data"
    }
   ]
  },
  {
   "cell_type": "markdown",
   "metadata": {
    "id": "J7ZjNm7DMH8T"
   },
   "source": [
    "Khi đã tìm thấy giá trị tốt nhất cho L2 penalty bằng kiểm định chéo, cần huấn luyện lại mô hình cuối cùng trong tất cả dữ liệu huấn luyện sử dụng `l2_penalty`. Theo cách này, mô hình cuối sẽ được huấn luyện trong toàn bộ tập dữ liệu."
   ]
  },
  {
   "cell_type": "markdown",
   "metadata": {
    "id": "0CdIGVRRMH8b"
   },
   "source": [
    "***QUIZ: Với L2 penalty tốt nhất tìm thấy ở trên, hãy huấn luyện một mô hình sử dụng tất cả dữ liệu huấn luyện. RSS trong dữ liệu KIỂM TRA của mô hình với L2 penalty đó là bao nhiêu? ***"
   ]
  },
  {
   "cell_type": "code",
   "metadata": {
    "id": "WYLheewBMH8c"
   },
   "source": [
    "poly_data = polynomial_dataframe(train_and_validation['sqft_living'],15)\n",
    "features = data.columns\n",
    "\n",
    "data['price'] = train_and_validation['price']\n",
    "model_l2 = Ridge(alpha=best_l2_penalty).fit(poly_data,data['price'].values)"
   ],
   "execution_count": 55,
   "outputs": []
  },
  {
   "cell_type": "code",
   "execution_count": 57,
   "outputs": [
    {
     "data": {
      "text/plain": "139812500297123.16"
     },
     "execution_count": 57,
     "metadata": {},
     "output_type": "execute_result"
    }
   ],
   "source": [
    "predictions = model_l2.predict(polynomial_dataframe(test_data['sqft_living'],15))\n",
    "residuals = predictions - test_data['price'].values\n",
    "residuals.dot(residuals)"
   ],
   "metadata": {
    "collapsed": false
   }
  },
  {
   "cell_type": "code",
   "execution_count": null,
   "outputs": [],
   "source": [],
   "metadata": {
    "collapsed": false
   }
  }
 ]
}
