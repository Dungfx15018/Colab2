{
 "nbformat": 4,
 "nbformat_minor": 0,
 "metadata": {
  "kernelspec": {
   "display_name": "Python 3",
   "language": "python",
   "name": "python3"
  },
  "language_info": {
   "codemirror_mode": {
    "name": "ipython",
    "version": 3
   },
   "file_extension": ".py",
   "mimetype": "text/x-python",
   "name": "python",
   "nbconvert_exporter": "python",
   "pygments_lexer": "ipython3",
   "version": "3.5.2"
  },
  "colab": {
   "name": "[VN]Lab-2.ipynb",
   "provenance": [],
   "collapsed_sections": []
  }
 },
 "cells": [
  {
   "cell_type": "markdown",
   "metadata": {
    "id": "UuojO3VSzL_o"
   },
   "source": [
    "# Hồi quy đa biến Multiple Regression (Diễn giải)"
   ]
  },
  {
   "cell_type": "markdown",
   "metadata": {
    "id": "mSbS1z5MzL_q"
   },
   "source": [
    "Trong notebook này, chúng ta sẽ sử dụng dữ liệu doanh số bán nhà ở Quận King để dự đoán giá nhà sử dụng hồi quy tuyến tính đa biến. Chúng ta sẽ:\n",
    "* Thực hiện một số thiết kế đặc trưng bằng các hàm DataFrame nội bộ.\n",
    "* Sử dụng các hàm sklearn có sẵn để tính hồi quy và truy cập các tham số của nó (hệ số).\n",
    "* Viết hàm tính RSS với các trọng số hồi quy, yếu tố dự báo và đầu ra đã cho.\n",
    "* Xem các hệ số và diễn giải ý nghĩa của chúng.\n",
    "* Đánh giá mô hình đa biến qua RSS."
   ]
  },
  {
   "cell_type": "markdown",
   "metadata": {
    "id": "KdF3Vw8dzL_r"
   },
   "source": [
    "## Import thư viện"
   ]
  },
  {
   "cell_type": "code",
   "metadata": {
    "id": "Uw5wbG3XzL_s"
   },
   "source": [
    "import sklearn, pandas\n",
    "import numpy as np"
   ],
   "execution_count": 1,
   "outputs": []
  },
  {
   "cell_type": "markdown",
   "metadata": {
    "id": "PMBGrgxGzL_s"
   },
   "source": [
    "## Load dữ liệu bán nhà\n",
    "\n",
    "Tập dữ liệu từ doanh số bán nhà quận King, Seatle, WA."
   ]
  },
  {
   "cell_type": "code",
   "metadata": {
    "scrolled": true,
    "id": "Spz6werbzL_s"
   },
   "source": [
    "full_data = pandas.read_csv(\"house_data/kc_house_data.csv\", index_col=0)"
   ],
   "execution_count": 2,
   "outputs": []
  },
  {
   "cell_type": "markdown",
   "metadata": {
    "id": "r1KXSBqZzL_t"
   },
   "source": [
    "## Chia dữ liệu thành tập huấn luyện và kiểm tra.\n",
    "Chúng ta sử dụng seed=0 để mọi người chạy notebook này có đều được kết quả tương tự. Thực tế, các bạn có thể thiết lập seed ngẫu nhiên để đảm bảo tính nhất quán. "
   ]
  },
  {
   "cell_type": "code",
   "metadata": {
    "id": "aHStoQZezL_t"
   },
   "source": [
    "from sklearn.model_selection import train_test_split\n",
    "train_data, test_data = train_test_split(full_data, train_size=0.8, test_size=0.2, random_state=0)\n",
    "train_data = train_data.copy()\n",
    "test_data = test_data.copy()"
   ],
   "execution_count": 3,
   "outputs": []
  },
  {
   "cell_type": "markdown",
   "metadata": {
    "id": "J_bWDhltzL_t"
   },
   "source": [
    "# Tìm hiểu mô hình hồi quy đa biến"
   ]
  },
  {
   "cell_type": "markdown",
   "metadata": {
    "id": "A_ZM4QM6zL_u"
   },
   "source": [
    "Chúng ta có thể sử dụng code sau để tìm hiểu mô hình hồi quy đa biến dự đoán 'price' dựa trên các đặc trưng sau: example_features = ['sqft_living', 'bedrooms', 'bathrooms'] trong dữ liệu huấn luyện với code:"
   ]
  },
  {
   "cell_type": "code",
   "metadata": {
    "id": "fBKTyCQTzL_u"
   },
   "source": [
    "def extract_features(data, features_title):\n",
    "    # nhận các đặc trưng từ DataFrame\n",
    "    features = [data[title].values for title in features_title]\n",
    "    # xếp chồng chúng thành 2d [examples, properties]\n",
    "    return np.stack(features, axis=-1)"
   ],
   "execution_count": 4,
   "outputs": []
  },
  {
   "cell_type": "code",
   "metadata": {
    "id": "w3vPgycwzL_u"
   },
   "source": [
    "from sklearn.linear_model import LinearRegression\n",
    "\n",
    "example_features_title = ['sqft_living', 'bedrooms', 'bathrooms']\n",
    "# trích xuất đặc trưng thành các mảng numpy và xếp chồng chúng mỗi example \n",
    "example_features = extract_features(train_data, example_features_title)\n",
    "example_labels = train_data['price']\n",
    "example_model = LinearRegression().fit(example_features, example_labels)"
   ],
   "execution_count": 5,
   "outputs": []
  },
  {
   "cell_type": "markdown",
   "metadata": {
    "id": "vkvZ3tQLzL_v"
   },
   "source": [
    "Chúng ta đã khớp mô hình, giờ có thể trích xuất các trọng số mô hình (hệ số) từ mô hình như sau:"
   ]
  },
  {
   "cell_type": "code",
   "metadata": {
    "id": "PYq-n6gmzL_v",
    "outputId": "8e67f020-657d-4e46-bd0a-c9eda1b30c97"
   },
   "source": [
    "example_weight_summary = example_model.coef_\n",
    "print(example_weight_summary)"
   ],
   "execution_count": 6,
   "outputs": [
    {
     "name": "stdout",
     "output_type": "stream",
     "text": [
      "[   313.17055038 -56754.66651422   6887.71910816]\n"
     ]
    }
   ]
  },
  {
   "cell_type": "markdown",
   "metadata": {
    "id": "JrPSX8P8zL_w"
   },
   "source": [
    "## Đưa ra dự đoán\n",
    "\n",
    "Trong notebook về gradient descent, chúng ta sử dụng numpy để thực hiện hồi quy. Trong notebook này, chúng ta sẽ sử dụng các hàm giao diện của mô hình sklearn hiện có để phân tích hồi quy đa biến.\n",
    "\n",
    "Khi mô hình đã xây, chúng ta có thể sử dụng hàm `predict` để tìm các giá trị dự đoán cho dữ liệu mà chúng ta truyền vào. Ví dụ: sử dụng example_model trên: "
   ]
  },
  {
   "cell_type": "code",
   "metadata": {
    "id": "ddZiuCWszL_w",
    "outputId": "bf5701c3-472b-405d-a371-fe16db5af27d"
   },
   "source": [
    "example_predictions = example_model.predict(example_features)\n",
    "print(example_predictions[0]) # should be 395813.499"
   ],
   "execution_count": 7,
   "outputs": [
    {
     "name": "stdout",
     "output_type": "stream",
     "text": [
      "395813.4988028937\n"
     ]
    }
   ]
  },
  {
   "cell_type": "markdown",
   "metadata": {
    "id": "eVZ3wPEyzL_w"
   },
   "source": [
    "## Tính RSS"
   ]
  },
  {
   "cell_type": "markdown",
   "metadata": {
    "id": "Hc0JjiYqzL_x"
   },
   "source": [
    "Bây giờ chúng ta có thể đưa ra các dự đoán cho mô hình, hãy viết một hàm tính RSS của mô hình. Hoàn thành hàm dưới đây để tính RSS với mô hình, dữ liệu và đầu ra đã biết."
   ]
  },
  {
   "cell_type": "code",
   "metadata": {
    "collapsed": true,
    "id": "JMqfzD8zzL_x"
   },
   "source": [
    "def get_residual_sum_of_squares(model, data, outcome):\n",
    "    # Trước tiên lấy các dự đoán\n",
    "\n",
    "    prediction = model.predict(data)\n",
    "\n",
    "    # Sau đó tính các phần dư/lỗi\n",
    "\n",
    "    residual = outcome - prediction\n",
    "    # Bình phương lên và cộng tổng\n",
    "\n",
    "    RSS = sum(residual**2)\n",
    "\n",
    "    return(RSS)    "
   ],
   "execution_count": 8,
   "outputs": []
  },
  {
   "cell_type": "markdown",
   "metadata": {
    "id": "_R4UCYFdzL_x"
   },
   "source": [
    "Kiểm tra hàm bằng cách tính RSS trong dữ liệu KIỂM TRA cho mô hình mẫu:"
   ]
  },
  {
   "cell_type": "code",
   "metadata": {
    "id": "EfnouG3BzL_x",
    "outputId": "5a23d795-5222-4135-9b87-8b79217fb9ec"
   },
   "source": [
    "example_test_features = extract_features(test_data, example_features_title)\n",
    "example_test_labels = test_data['price']\n",
    "rss_example_test = get_residual_sum_of_squares(example_model, example_test_features, example_test_labels)\n",
    "print(rss_example_test) # should be ~ 2.5921e+14"
   ],
   "execution_count": 9,
   "outputs": [
    {
     "name": "stdout",
     "output_type": "stream",
     "text": [
      "259213572106085.66\n"
     ]
    }
   ]
  },
  {
   "cell_type": "markdown",
   "metadata": {
    "id": "FxZYgpiSzL_x"
   },
   "source": [
    "# Tạo một số đặc trưng mới"
   ]
  },
  {
   "cell_type": "markdown",
   "metadata": {
    "id": "pUrv_M43zL_y"
   },
   "source": [
    "Chúng ta thường nghĩ hồi quy đa biến gồm nhiều đặc trưng khác nhau (ví dụ: số phòng ngủ, diện tích và số phòng tắm), nhưng chúng ta cũng có thể xem xét việc biến đổi các đối đặc trưng hiện có, ví dụ: log của squarefeet hoặc thậm chí các đặc trưng \"tương tác\" như tích của số phòng ngủ và số phòng tắm."
   ]
  },
  {
   "cell_type": "markdown",
   "metadata": {
    "id": "pZRDPwVwzL_y"
   },
   "source": [
    "Giờ chúng ta sẽ sử dụng hàm logarit mặc định của python để tạo đặc trưng mới. Chúng ta cần import nó từ thư viện math."
   ]
  },
  {
   "cell_type": "code",
   "metadata": {
    "id": "uxVRXzdczL_y"
   },
   "source": [
    "from math import log"
   ],
   "execution_count": 10,
   "outputs": []
  },
  {
   "cell_type": "markdown",
   "metadata": {
    "id": "N4HSOc4YzL_y"
   },
   "source": [
    "Tiếp theo, chúng ta sẽ tạo 4 đặc trưng mới sau làm cột trong cả dữ liệu HUẤN LUYỆN và KIỂM TRA:\n",
    "* bedrooms_squared = bedrooms\\*bedrooms\n",
    "* bed_bath_rooms = bedrooms\\*bathrooms\n",
    "* log_sqft_living = log(sqft_living)\n",
    "* lat_plus_long = lat + long \n",
    "\n",
    "Ví dụ như sau:"
   ]
  },
  {
   "cell_type": "code",
   "metadata": {
    "id": "VuOR_azCzL_y"
   },
   "source": [
    "train_data['bedrooms_squared'] = train_data['bedrooms'].map(lambda x: x**2)\n",
    "test_data['bedrooms_squared'] = test_data['bedrooms'].map(lambda x: x**2)"
   ],
   "execution_count": 11,
   "outputs": []
  },
  {
   "cell_type": "code",
   "metadata": {
    "id": "20ou7f3CzL_z"
   },
   "source": [
    "# tạo 3 đặc trưng còn lại trong cả dữ liệu HUẤN LUYỆN và KIỂM TRA\n",
    "train_data['bed_bath_rooms'] = train_data['bedrooms'] * train_data['bathrooms']\n",
    "test_data['bed_bath_rooms'] = test_data['bedrooms'] * test_data['bathrooms']\n",
    "\n",
    "train_data['log_sqft_living'] = train_data['sqft_living'].map(lambda x: log(x))\n",
    "test_data['log_sqft_living'] = test_data['sqft_living'].map(lambda x: log(x))\n",
    "\n",
    "train_data['lat_plus_long'] = train_data['lat'] + train_data['long']\n",
    "test_data['lat_plus_long'] = test_data['lat'] + test_data['long']\n"
   ],
   "execution_count": 12,
   "outputs": []
  },
  {
   "cell_type": "markdown",
   "metadata": {
    "id": "XzffD5s3zL_z"
   },
   "source": [
    "* bedrooms*bedrooms sẽ tăng phân tách giữa ít phòng ngủ (chẳng hạn: 1) và nhiều phòng ngủ (chẳng hạn: 4). Do đó, đặc trưng này phần lớn sẽ ảnh hưởng với nhiều phòng ngủ.\n",
    "* bedrooms*bathrooms cho đặc trưng \"tương tác\", nó sẽ lớn khi cả hai đều lớn.\n",
    "* log(sqft_living) khiến các giá trị lớn hơn gần nhau hơn và lan ra các giá trị nhỏ.\n",
    "* lat + long hoàn toàn không có ý nghĩa nhưng chúng ta vẫn thực hiện (bạn sẽ biết lý do sau)."
   ]
  },
  {
   "cell_type": "markdown",
   "metadata": {
    "id": "U1HAP2BEzL_z"
   },
   "source": [
    "**Quiz: Giá trị trung bình cộng của 4 đặc trưng mới trong dữ liệu KIỂM TRA là bao nhiêu? (làm tròn tới 2 chữ số thập phân)**"
   ]
  },
  {
   "cell_type": "code",
   "metadata": {
    "id": "Kp3D1mlnzL_0"
   },
   "source": [
    "# pandas.Series có hàm gọi chính xác như vậy.\n",
    "\n",
    "print(\"Bedrooms:\", round(test_data['bedrooms'].mean(),2))\n",
    "\n",
    "print(\"Bedroom vs Bathroom:\", round(test_data['bed_bath_rooms'].mean(),2))\n",
    "\n",
    "print(\"Square feet:\", round(test_data['log_sqft_living'].mean(),2))\n",
    "\n",
    "print(\"Latitude vs Longtitude\", round(test_data['lat_plus_long'].mean(),2))"
   ],
   "execution_count": 15,
   "outputs": [
    {
     "name": "stdout",
     "output_type": "stream",
     "text": [
      "Bedrooms: 3.38\n",
      "Bedroom vs Bathroom: 7.45\n",
      "Square feet: 7.55\n",
      "Latitude vs Longtitude -74.65\n"
     ]
    }
   ]
  },
  {
   "cell_type": "markdown",
   "metadata": {
    "id": "oSvBL-zkzL_0"
   },
   "source": [
    "## Tìm hiểu mô hình đa biến"
   ]
  },
  {
   "cell_type": "markdown",
   "metadata": {
    "id": "v5lRGSFszL_0"
   },
   "source": [
    "Bây giờ chúng ta sẽ tìm hiểu trọng số của ba mô hình (lồng nhau) dự đoán giá nhà. Mô hình đầu tiên sẽ ít đặc trưng nhất, mô hình thứ hai sẽ thêm một đặc trưng và mô hình thứ ba sẽ thêm vài đặc trưng khác:\n",
    "* Mô hình 1: sqft_living, # bedrooms, # bathrooms, lat & long\n",
    "* Mô hình 2: thêm bedrooms\\*bathrooms\n",
    "* Mô hình 3: thêm log_sqft, bedrooms_squared, và lat_plus_long"
   ]
  },
  {
   "cell_type": "code",
   "metadata": {
    "id": "xBmapYryzL_0"
   },
   "source": [
    "model_1_features = ['sqft_living', 'bedrooms', 'bathrooms', 'lat', 'long']\n",
    "model_2_features = model_1_features + ['bed_bath_rooms']\n",
    "model_3_features = model_2_features + ['bedrooms_squared', 'log_sqft_living', 'lat_plus_long']"
   ],
   "execution_count": 26,
   "outputs": []
  },
  {
   "cell_type": "markdown",
   "metadata": {
    "id": "-YSVzznJzL_0"
   },
   "source": [
    "Bạn đã có các đặc trưng, trọng số cho 3 mô hình khác nhau dự đoán target = 'price' sử dụng LinearRegression của sklearn và thấy giá trị trọng số/hệ số:\n",
    "\n",
    "*Lưu ý: mô hình hồi quy trong khóa này thường có `coef_`*"
   ]
  },
  {
   "cell_type": "code",
   "metadata": {
    "collapsed": true,
    "id": "PUJvPZyAzL_1"
   },
   "source": [
    "# Tìm hiểu 3 mô hình. Trích xuất đặc trưng và khớp mô hình với các đặc trưng tương ứng. \n",
    "# Nếu không nhớ, hãy xem example_model bên trên\n",
    "\n",
    "model_1_features_extracted = extract_features(train_data, model_1_features)\n",
    "model_2_features_extracted = extract_features(train_data, model_2_features)\n",
    "model_3_features_extracted = extract_features(train_data, model_3_features)\n",
    "\n",
    "labels = train_data['price']\n",
    "\n",
    "model1 = LinearRegression().fit(model_1_features_extracted,labels)\n",
    "model2 = LinearRegression().fit(model_2_features_extracted,labels)\n",
    "model3 = LinearRegression().fit(model_3_features_extracted,labels)"
   ],
   "execution_count": 27,
   "outputs": []
  },
  {
   "cell_type": "code",
   "metadata": {
    "collapsed": true,
    "id": "bjisQIWLzL_1"
   },
   "source": [
    "# Kiểm tra/trích xuất từng hệ số của mô hình. Nếu nghi ngỡ, hãy tham khảo tài liệu của sklearn. \n",
    "print(\"Model1: \", model1.coef_)\n",
    "print(\"Model2: \",model2.coef_)\n",
    "print(\"Model3: \",model3.coef_)"
   ],
   "execution_count": 28,
   "outputs": [
    {
     "name": "stdout",
     "output_type": "stream",
     "text": [
      "Model1:  [ 3.12942010e+02 -5.30962691e+04  1.47770428e+04  6.53983343e+05\n",
      " -3.25707336e+05]\n",
      "Model2:  [ 3.06819573e+02 -1.04604718e+05 -7.01815289e+04  6.50590952e+05\n",
      " -3.09965751e+05  2.49441497e+04]\n",
      "Model3:  [ 5.37808086e+02  2.78047817e+03  1.01363764e+05  1.98201655e+12\n",
      "  1.98201561e+12 -1.81822547e+04  7.24579910e+02 -5.71030022e+05\n",
      " -1.98201589e+12]\n"
     ]
    }
   ]
  },
  {
   "cell_type": "markdown",
   "metadata": {
    "id": "HPhXwCQHzL_1"
   },
   "source": [
    "**Quiz: Dấu (dương hoặc âm) của hệ số/trọng số cho 'bathrooms' trong mô hình 1 là gì?**\n",
    "Possitive\n",
    "\n",
    "**Quiz: Dấu (dương hoặc âm) của hệ số/trọng số cho 'bathrooms' trong mô hình 2 là gì?** Negative\n",
    "\n",
    "Hãy nghĩ xem điều này có ý nghĩa gì."
   ]
  },
  {
   "cell_type": "code",
   "execution_count": null,
   "outputs": [],
   "source": [],
   "metadata": {
    "collapsed": false
   }
  },
  {
   "cell_type": "markdown",
   "metadata": {
    "id": "xYtwMSZLzL_1"
   },
   "source": [
    "## So sánh các mô hình đa biến\n",
    "\n",
    "Chúng ta đã nghiên cứu 3 mô hình và trích xuất trong số mô hình mà chúng ta muốn đánh giá là tốt nhất."
   ]
  },
  {
   "cell_type": "markdown",
   "metadata": {
    "id": "3ZrqppoOzL_1"
   },
   "source": [
    "Trước tiên sử dụng các hàm trước đó để tính RSS trong dữ liệu HUẤN LUYỆN cho từng mô hình."
   ]
  },
  {
   "cell_type": "code",
   "execution_count": 29,
   "outputs": [],
   "source": [
    "# Tính RSS trong dữ liệu HUẤN LUYỆN cho từng mô hình và hiển thị các giá trị.\n",
    "# Xem lab trước nếu quên cách làm.\n",
    "\n",
    "model1_rss = get_residual_sum_of_squares(model1,model_1_features_extracted, labels)\n",
    "model2_rss = get_residual_sum_of_squares(model2, model_2_features_extracted, labels)\n",
    "model3_rss = get_residual_sum_of_squares(model3, model_3_features_extracted, labels)"
   ],
   "metadata": {
    "collapsed": false
   }
  },
  {
   "cell_type": "code",
   "execution_count": 30,
   "outputs": [
    {
     "name": "stdout",
     "output_type": "stream",
     "text": [
      "979843597588334.1\n",
      "970799199729577.0\n",
      "913653643191763.4\n"
     ]
    }
   ],
   "source": [
    "print(model1_rss)\n",
    "print(model2_rss)\n",
    "print(model3_rss)"
   ],
   "metadata": {
    "collapsed": false
   }
  },
  {
   "cell_type": "markdown",
   "source": [
    "**Quiz: Mô hình nào (1, 2 hay 3) có RSSS thấp nhất trong dữ liệu HUẤN LUYỆN?** Model 3 Đây có phải điều chúng ta dự kiến?"
   ],
   "metadata": {
    "collapsed": false
   }
  },
  {
   "cell_type": "markdown",
   "metadata": {
    "id": "jtJJMcjtzL_2"
   },
   "source": [
    "Bây giờ hãy tính RSS trong dữ liệu KIỂM TRA cho từng mô hình. "
   ]
  },
  {
   "cell_type": "code",
   "metadata": {
    "collapsed": true,
    "id": "yHBiUB1FzL_2"
   },
   "source": [
    "# Tính RSS trong dữ liệu KIỂM TRA cho từng mô hình và hiển thị các giá trị.\n",
    "\n",
    "model1_test_feature = extract_features(test_data, model_1_features)\n",
    "model2_test_feature = extract_features(test_data, model_2_features)\n",
    "model3_test_feature = extract_features(test_data, model_3_features)\n",
    "\n",
    "test_labels = test_data['price']\n",
    "\n",
    "\n",
    "model1_test_rss = get_residual_sum_of_squares(model1, model1_test_feature, test_labels)\n",
    "model2_test_rss = get_residual_sum_of_squares(model2, model2_test_feature, test_labels)\n",
    "model3_test_rss = get_residual_sum_of_squares(model3, model3_test_feature, test_labels)\n"
   ],
   "execution_count": 31,
   "outputs": []
  },
  {
   "cell_type": "markdown",
   "metadata": {
    "id": "DA9Ge-fNzL_2"
   },
   "source": [
    "**Quiz: Mô hình nào (1, 2 hay 3) có RSSS thấp nhất trong dữ liệu KIỂM TRA?** Model 3 Đây có phải điều chúng ta dự kiến? Nghĩ về các đặc trưng đã thêm vào từng mô hình trước đó."
   ]
  },
  {
   "cell_type": "code",
   "metadata": {
    "collapsed": true,
    "id": "fHoHmYWHzL_2"
   },
   "source": [
    "print(model1_test_rss)\n",
    "print(model2_test_rss)\n",
    "print(model3_test_rss)"
   ],
   "execution_count": 32,
   "outputs": [
    {
     "name": "stdout",
     "output_type": "stream",
     "text": [
      "213487129319104.16\n",
      "210778544168942.0\n",
      "203972159845992.75\n"
     ]
    }
   ]
  },
  {
   "cell_type": "code",
   "execution_count": null,
   "outputs": [],
   "source": [],
   "metadata": {
    "collapsed": false
   }
  }
 ]
}
